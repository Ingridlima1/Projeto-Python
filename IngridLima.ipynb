{
  "nbformat": 4,
  "nbformat_minor": 0,
  "metadata": {
    "colab": {
      "provenance": [],
      "name": "IngridLima.ipynb"
    },
    "kernelspec": {
      "name": "python3",
      "display_name": "Python 3"
    },
    "language_info": {
      "name": "python"
    }
  },
  "cells": [
    {
      "cell_type": "code",
      "execution_count": null,
      "metadata": {
        "id": "gKG6gW9oEhZ6"
      },
      "outputs": [],
      "source": []
    },
    {
      "cell_type": "markdown",
      "source": [
        "#Cadastro de Cliente"
      ],
      "metadata": {
        "id": "NBYBU_9oHcFV"
      }
    },
    {
      "cell_type": "code",
      "source": [
        "def cadastro_cliente(cadastro_cliente):\n",
        "  nome = input('Digite o seu nome: ')\n",
        "  ano_nascimento = int(input('Digite o seu ano de nascimento: '))\n",
        "  email = input('Digite o seu email: ')\n",
        "  telefone = input('Digite seu telefone: ')\n",
        "\n",
        "cadastro_cliente\n",
        "print(\"Nome completo: \")\n",
        "print(\"Ano de nascimento: \")\n",
        "print(\"E-mail: \")\n",
        "print(\"Telefone: \")\n"
      ],
      "metadata": {
        "colab": {
          "base_uri": "https://localhost:8080/"
        },
        "id": "5KWK6ukhHfiY",
        "outputId": "709b5201-6fd5-4c93-bfa3-25805137a363"
      },
      "execution_count": null,
      "outputs": [
        {
          "output_type": "stream",
          "name": "stdout",
          "text": [
            "Nome completo: \n",
            "Ano de nascimento: \n",
            "E-mail: \n",
            "Telefone: \n"
          ]
        }
      ]
    },
    {
      "cell_type": "markdown",
      "source": [
        "#Verificando se é maior de idade"
      ],
      "metadata": {
        "id": "l3GGLMSUH3cu"
      }
    },
    {
      "cell_type": "code",
      "source": [
        "def verificando_idade(verificando_idade):\n",
        "  idade = int(input(\"Digite sua idade: \"))\n",
        "\n",
        "verificando_idade\n",
        "\n",
        "if idade > 18:\n",
        "\n",
        "    print(\"Você é maior de idade.\")\n",
        "else:\n",
        "    print(\"Você é menor de idade.\")"
      ],
      "metadata": {
        "id": "eBojJvT8H24K"
      },
      "execution_count": null,
      "outputs": []
    },
    {
      "cell_type": "markdown",
      "source": [],
      "metadata": {
        "id": "wzTk7EExMXf4"
      }
    }
  ]
}